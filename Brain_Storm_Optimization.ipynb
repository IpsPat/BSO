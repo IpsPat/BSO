{
 "cells": [
  {
   "cell_type": "code",
   "execution_count": 68,
   "metadata": {},
   "outputs": [],
   "source": [
    "import numpy as np\n",
    "import pandas as pd\n",
    "from sklearn.cluster import KMeans\n",
    "from sklearn.svm import SVR\n",
    "import random as rn\n",
    "import math\n",
    "from sklearn.model_selection import train_test_split\n",
    "from sklearn.metrics import mean_squared_error"
   ]
  },
  {
   "cell_type": "code",
   "execution_count": 69,
   "metadata": {},
   "outputs": [],
   "source": [
    "df = pd.read_csv(\"D:\\\\MODELLING\\\\PROJECT2\\\\CODE\\\\finalDataset.csv\")"
   ]
  },
  {
   "cell_type": "code",
   "execution_count": 70,
   "metadata": {},
   "outputs": [
    {
     "data": {
      "text/html": [
       "<div>\n",
       "<style scoped>\n",
       "    .dataframe tbody tr th:only-of-type {\n",
       "        vertical-align: middle;\n",
       "    }\n",
       "\n",
       "    .dataframe tbody tr th {\n",
       "        vertical-align: top;\n",
       "    }\n",
       "\n",
       "    .dataframe thead th {\n",
       "        text-align: right;\n",
       "    }\n",
       "</style>\n",
       "<table border=\"1\" class=\"dataframe\">\n",
       "  <thead>\n",
       "    <tr style=\"text-align: right;\">\n",
       "      <th></th>\n",
       "      <th>Date</th>\n",
       "      <th>Open</th>\n",
       "      <th>High</th>\n",
       "      <th>Low</th>\n",
       "      <th>Close</th>\n",
       "      <th>Adj Close</th>\n",
       "      <th>Volume</th>\n",
       "      <th>MA5</th>\n",
       "      <th>MA10</th>\n",
       "      <th>MA20</th>\n",
       "      <th>DIF</th>\n",
       "      <th>MACD</th>\n",
       "      <th>KDJ.K</th>\n",
       "      <th>KDJ.D</th>\n",
       "      <th>PSYMA6</th>\n",
       "      <th>RSI6</th>\n",
       "      <th>RSI12</th>\n",
       "      <th>BIAS6</th>\n",
       "      <th>BIAS24</th>\n",
       "    </tr>\n",
       "  </thead>\n",
       "  <tbody>\n",
       "    <tr>\n",
       "      <th>0</th>\n",
       "      <td>8/18/2014</td>\n",
       "      <td>5.650</td>\n",
       "      <td>5.650</td>\n",
       "      <td>5.620</td>\n",
       "      <td>5.645</td>\n",
       "      <td>5.645</td>\n",
       "      <td>129425.0</td>\n",
       "      <td>NaN</td>\n",
       "      <td>NaN</td>\n",
       "      <td>NaN</td>\n",
       "      <td>NaN</td>\n",
       "      <td>NaN</td>\n",
       "      <td>NaN</td>\n",
       "      <td>NaN</td>\n",
       "      <td>NaN</td>\n",
       "      <td>NaN</td>\n",
       "      <td>NaN</td>\n",
       "      <td>NaN</td>\n",
       "      <td>NaN</td>\n",
       "    </tr>\n",
       "    <tr>\n",
       "      <th>1</th>\n",
       "      <td>8/19/2014</td>\n",
       "      <td>5.625</td>\n",
       "      <td>5.695</td>\n",
       "      <td>5.625</td>\n",
       "      <td>5.670</td>\n",
       "      <td>5.670</td>\n",
       "      <td>1035966.0</td>\n",
       "      <td>NaN</td>\n",
       "      <td>NaN</td>\n",
       "      <td>NaN</td>\n",
       "      <td>NaN</td>\n",
       "      <td>NaN</td>\n",
       "      <td>NaN</td>\n",
       "      <td>NaN</td>\n",
       "      <td>NaN</td>\n",
       "      <td>NaN</td>\n",
       "      <td>NaN</td>\n",
       "      <td>NaN</td>\n",
       "      <td>NaN</td>\n",
       "    </tr>\n",
       "    <tr>\n",
       "      <th>2</th>\n",
       "      <td>8/20/2014</td>\n",
       "      <td>5.640</td>\n",
       "      <td>5.675</td>\n",
       "      <td>5.630</td>\n",
       "      <td>5.665</td>\n",
       "      <td>5.665</td>\n",
       "      <td>425584.0</td>\n",
       "      <td>NaN</td>\n",
       "      <td>NaN</td>\n",
       "      <td>NaN</td>\n",
       "      <td>NaN</td>\n",
       "      <td>NaN</td>\n",
       "      <td>NaN</td>\n",
       "      <td>NaN</td>\n",
       "      <td>NaN</td>\n",
       "      <td>NaN</td>\n",
       "      <td>NaN</td>\n",
       "      <td>NaN</td>\n",
       "      <td>NaN</td>\n",
       "    </tr>\n",
       "    <tr>\n",
       "      <th>3</th>\n",
       "      <td>8/21/2014</td>\n",
       "      <td>5.640</td>\n",
       "      <td>5.640</td>\n",
       "      <td>5.595</td>\n",
       "      <td>5.618</td>\n",
       "      <td>5.618</td>\n",
       "      <td>37287.0</td>\n",
       "      <td>NaN</td>\n",
       "      <td>NaN</td>\n",
       "      <td>NaN</td>\n",
       "      <td>NaN</td>\n",
       "      <td>NaN</td>\n",
       "      <td>NaN</td>\n",
       "      <td>NaN</td>\n",
       "      <td>NaN</td>\n",
       "      <td>NaN</td>\n",
       "      <td>NaN</td>\n",
       "      <td>NaN</td>\n",
       "      <td>NaN</td>\n",
       "    </tr>\n",
       "    <tr>\n",
       "      <th>4</th>\n",
       "      <td>8/22/2014</td>\n",
       "      <td>5.665</td>\n",
       "      <td>5.675</td>\n",
       "      <td>5.655</td>\n",
       "      <td>5.668</td>\n",
       "      <td>5.668</td>\n",
       "      <td>956503.0</td>\n",
       "      <td>5.6532</td>\n",
       "      <td>NaN</td>\n",
       "      <td>NaN</td>\n",
       "      <td>NaN</td>\n",
       "      <td>NaN</td>\n",
       "      <td>NaN</td>\n",
       "      <td>NaN</td>\n",
       "      <td>NaN</td>\n",
       "      <td>NaN</td>\n",
       "      <td>NaN</td>\n",
       "      <td>NaN</td>\n",
       "      <td>NaN</td>\n",
       "    </tr>\n",
       "  </tbody>\n",
       "</table>\n",
       "</div>"
      ],
      "text/plain": [
       "        Date   Open   High    Low  Close  Adj Close     Volume     MA5  MA10  \\\n",
       "0  8/18/2014  5.650  5.650  5.620  5.645      5.645   129425.0     NaN   NaN   \n",
       "1  8/19/2014  5.625  5.695  5.625  5.670      5.670  1035966.0     NaN   NaN   \n",
       "2  8/20/2014  5.640  5.675  5.630  5.665      5.665   425584.0     NaN   NaN   \n",
       "3  8/21/2014  5.640  5.640  5.595  5.618      5.618    37287.0     NaN   NaN   \n",
       "4  8/22/2014  5.665  5.675  5.655  5.668      5.668   956503.0  5.6532   NaN   \n",
       "\n",
       "   MA20  DIF  MACD  KDJ.K  KDJ.D  PSYMA6  RSI6  RSI12  BIAS6  BIAS24  \n",
       "0   NaN  NaN   NaN    NaN    NaN     NaN   NaN    NaN    NaN     NaN  \n",
       "1   NaN  NaN   NaN    NaN    NaN     NaN   NaN    NaN    NaN     NaN  \n",
       "2   NaN  NaN   NaN    NaN    NaN     NaN   NaN    NaN    NaN     NaN  \n",
       "3   NaN  NaN   NaN    NaN    NaN     NaN   NaN    NaN    NaN     NaN  \n",
       "4   NaN  NaN   NaN    NaN    NaN     NaN   NaN    NaN    NaN     NaN  "
      ]
     },
     "execution_count": 70,
     "metadata": {},
     "output_type": "execute_result"
    }
   ],
   "source": [
    "df.head()"
   ]
  },
  {
   "cell_type": "code",
   "execution_count": 71,
   "metadata": {},
   "outputs": [],
   "source": [
    "df = df.iloc[31:]"
   ]
  },
  {
   "cell_type": "code",
   "execution_count": 74,
   "metadata": {},
   "outputs": [
    {
     "data": {
      "text/html": [
       "<div>\n",
       "<style scoped>\n",
       "    .dataframe tbody tr th:only-of-type {\n",
       "        vertical-align: middle;\n",
       "    }\n",
       "\n",
       "    .dataframe tbody tr th {\n",
       "        vertical-align: top;\n",
       "    }\n",
       "\n",
       "    .dataframe thead th {\n",
       "        text-align: right;\n",
       "    }\n",
       "</style>\n",
       "<table border=\"1\" class=\"dataframe\">\n",
       "  <thead>\n",
       "    <tr style=\"text-align: right;\">\n",
       "      <th></th>\n",
       "      <th>Date</th>\n",
       "      <th>Open</th>\n",
       "      <th>High</th>\n",
       "      <th>Low</th>\n",
       "      <th>Close</th>\n",
       "      <th>Adj Close</th>\n",
       "      <th>Volume</th>\n",
       "      <th>MA5</th>\n",
       "      <th>MA10</th>\n",
       "      <th>MA20</th>\n",
       "      <th>DIF</th>\n",
       "      <th>MACD</th>\n",
       "      <th>KDJ.K</th>\n",
       "      <th>KDJ.D</th>\n",
       "      <th>PSYMA6</th>\n",
       "      <th>RSI6</th>\n",
       "      <th>RSI12</th>\n",
       "      <th>BIAS6</th>\n",
       "      <th>BIAS24</th>\n",
       "    </tr>\n",
       "  </thead>\n",
       "  <tbody>\n",
       "    <tr>\n",
       "      <th>31</th>\n",
       "      <td>9/30/2014</td>\n",
       "      <td>6.095000</td>\n",
       "      <td>6.120000</td>\n",
       "      <td>6.045000</td>\n",
       "      <td>6.085000</td>\n",
       "      <td>6.085000</td>\n",
       "      <td>526018.0000</td>\n",
       "      <td>6.044600</td>\n",
       "      <td>5.959400</td>\n",
       "      <td>6.292526</td>\n",
       "      <td>-0.031992</td>\n",
       "      <td>-0.043737</td>\n",
       "      <td>89.393939</td>\n",
       "      <td>83.310860</td>\n",
       "      <td>0.5</td>\n",
       "      <td>84.653465</td>\n",
       "      <td>53.188776</td>\n",
       "      <td>1.217044</td>\n",
       "      <td>-1.682733</td>\n",
       "    </tr>\n",
       "    <tr>\n",
       "      <th>32</th>\n",
       "      <td>10/1/2014</td>\n",
       "      <td>9.117578</td>\n",
       "      <td>9.173124</td>\n",
       "      <td>9.058773</td>\n",
       "      <td>9.118762</td>\n",
       "      <td>9.118762</td>\n",
       "      <td>108976.8483</td>\n",
       "      <td>6.661352</td>\n",
       "      <td>6.284976</td>\n",
       "      <td>6.451814</td>\n",
       "      <td>0.198894</td>\n",
       "      <td>0.012312</td>\n",
       "      <td>98.393131</td>\n",
       "      <td>89.918095</td>\n",
       "      <td>0.5</td>\n",
       "      <td>98.173657</td>\n",
       "      <td>91.513651</td>\n",
       "      <td>39.069954</td>\n",
       "      <td>43.885515</td>\n",
       "    </tr>\n",
       "    <tr>\n",
       "      <th>33</th>\n",
       "      <td>10/2/2014</td>\n",
       "      <td>6.090000</td>\n",
       "      <td>6.090000</td>\n",
       "      <td>5.980000</td>\n",
       "      <td>6.003000</td>\n",
       "      <td>6.003000</td>\n",
       "      <td>385568.0000</td>\n",
       "      <td>6.662352</td>\n",
       "      <td>6.293276</td>\n",
       "      <td>6.296026</td>\n",
       "      <td>0.145111</td>\n",
       "      <td>0.042067</td>\n",
       "      <td>6.295956</td>\n",
       "      <td>64.694342</td>\n",
       "      <td>0.5</td>\n",
       "      <td>49.746977</td>\n",
       "      <td>51.057923</td>\n",
       "      <td>-8.373904</td>\n",
       "      <td>-5.514342</td>\n",
       "    </tr>\n",
       "    <tr>\n",
       "      <th>34</th>\n",
       "      <td>10/6/2014</td>\n",
       "      <td>6.145000</td>\n",
       "      <td>6.245000</td>\n",
       "      <td>6.130000</td>\n",
       "      <td>6.150000</td>\n",
       "      <td>6.150000</td>\n",
       "      <td>629111.0000</td>\n",
       "      <td>6.679352</td>\n",
       "      <td>6.314776</td>\n",
       "      <td>6.147588</td>\n",
       "      <td>0.112380</td>\n",
       "      <td>0.057451</td>\n",
       "      <td>10.641053</td>\n",
       "      <td>38.443380</td>\n",
       "      <td>0.5</td>\n",
       "      <td>51.181312</td>\n",
       "      <td>52.078950</td>\n",
       "      <td>-6.491757</td>\n",
       "      <td>-3.485434</td>\n",
       "    </tr>\n",
       "    <tr>\n",
       "      <th>35</th>\n",
       "      <td>10/7/2014</td>\n",
       "      <td>6.185000</td>\n",
       "      <td>6.185000</td>\n",
       "      <td>6.120000</td>\n",
       "      <td>6.120000</td>\n",
       "      <td>6.120000</td>\n",
       "      <td>185961.0000</td>\n",
       "      <td>6.695352</td>\n",
       "      <td>6.346276</td>\n",
       "      <td>6.147338</td>\n",
       "      <td>0.083226</td>\n",
       "      <td>0.062986</td>\n",
       "      <td>9.754298</td>\n",
       "      <td>8.897102</td>\n",
       "      <td>0.5</td>\n",
       "      <td>50.429921</td>\n",
       "      <td>51.454435</td>\n",
       "      <td>-7.077406</td>\n",
       "      <td>-4.151781</td>\n",
       "    </tr>\n",
       "  </tbody>\n",
       "</table>\n",
       "</div>"
      ],
      "text/plain": [
       "         Date      Open      High       Low     Close  Adj Close       Volume  \\\n",
       "31  9/30/2014  6.095000  6.120000  6.045000  6.085000   6.085000  526018.0000   \n",
       "32  10/1/2014  9.117578  9.173124  9.058773  9.118762   9.118762  108976.8483   \n",
       "33  10/2/2014  6.090000  6.090000  5.980000  6.003000   6.003000  385568.0000   \n",
       "34  10/6/2014  6.145000  6.245000  6.130000  6.150000   6.150000  629111.0000   \n",
       "35  10/7/2014  6.185000  6.185000  6.120000  6.120000   6.120000  185961.0000   \n",
       "\n",
       "         MA5      MA10      MA20       DIF      MACD      KDJ.K      KDJ.D  \\\n",
       "31  6.044600  5.959400  6.292526 -0.031992 -0.043737  89.393939  83.310860   \n",
       "32  6.661352  6.284976  6.451814  0.198894  0.012312  98.393131  89.918095   \n",
       "33  6.662352  6.293276  6.296026  0.145111  0.042067   6.295956  64.694342   \n",
       "34  6.679352  6.314776  6.147588  0.112380  0.057451  10.641053  38.443380   \n",
       "35  6.695352  6.346276  6.147338  0.083226  0.062986   9.754298   8.897102   \n",
       "\n",
       "    PSYMA6       RSI6      RSI12      BIAS6     BIAS24  \n",
       "31     0.5  84.653465  53.188776   1.217044  -1.682733  \n",
       "32     0.5  98.173657  91.513651  39.069954  43.885515  \n",
       "33     0.5  49.746977  51.057923  -8.373904  -5.514342  \n",
       "34     0.5  51.181312  52.078950  -6.491757  -3.485434  \n",
       "35     0.5  50.429921  51.454435  -7.077406  -4.151781  "
      ]
     },
     "execution_count": 74,
     "metadata": {},
     "output_type": "execute_result"
    }
   ],
   "source": [
    "df.head()"
   ]
  },
  {
   "cell_type": "code",
   "execution_count": 75,
   "metadata": {},
   "outputs": [],
   "source": [
    "df = df.dropna()"
   ]
  },
  {
   "cell_type": "code",
   "execution_count": 76,
   "metadata": {},
   "outputs": [],
   "source": [
    "X = df.drop('Adj Close', axis=1)\n",
    "X = X.drop('Date', axis=1)\n",
    "y = df['Adj Close']"
   ]
  },
  {
   "cell_type": "code",
   "execution_count": 79,
   "metadata": {},
   "outputs": [
    {
     "data": {
      "text/html": [
       "<div>\n",
       "<style scoped>\n",
       "    .dataframe tbody tr th:only-of-type {\n",
       "        vertical-align: middle;\n",
       "    }\n",
       "\n",
       "    .dataframe tbody tr th {\n",
       "        vertical-align: top;\n",
       "    }\n",
       "\n",
       "    .dataframe thead th {\n",
       "        text-align: right;\n",
       "    }\n",
       "</style>\n",
       "<table border=\"1\" class=\"dataframe\">\n",
       "  <thead>\n",
       "    <tr style=\"text-align: right;\">\n",
       "      <th></th>\n",
       "      <th>Open</th>\n",
       "      <th>High</th>\n",
       "      <th>Low</th>\n",
       "      <th>Close</th>\n",
       "      <th>Volume</th>\n",
       "      <th>MA5</th>\n",
       "      <th>MA10</th>\n",
       "      <th>MA20</th>\n",
       "      <th>DIF</th>\n",
       "      <th>MACD</th>\n",
       "      <th>KDJ.K</th>\n",
       "      <th>KDJ.D</th>\n",
       "      <th>PSYMA6</th>\n",
       "      <th>RSI6</th>\n",
       "      <th>RSI12</th>\n",
       "      <th>BIAS6</th>\n",
       "      <th>BIAS24</th>\n",
       "    </tr>\n",
       "  </thead>\n",
       "  <tbody>\n",
       "    <tr>\n",
       "      <th>31</th>\n",
       "      <td>6.095000</td>\n",
       "      <td>6.120000</td>\n",
       "      <td>6.045000</td>\n",
       "      <td>6.085000</td>\n",
       "      <td>526018.0000</td>\n",
       "      <td>6.044600</td>\n",
       "      <td>5.959400</td>\n",
       "      <td>6.292526</td>\n",
       "      <td>-0.031992</td>\n",
       "      <td>-0.043737</td>\n",
       "      <td>89.393939</td>\n",
       "      <td>83.310860</td>\n",
       "      <td>0.5</td>\n",
       "      <td>84.653465</td>\n",
       "      <td>53.188776</td>\n",
       "      <td>1.217044</td>\n",
       "      <td>-1.682733</td>\n",
       "    </tr>\n",
       "    <tr>\n",
       "      <th>32</th>\n",
       "      <td>9.117578</td>\n",
       "      <td>9.173124</td>\n",
       "      <td>9.058773</td>\n",
       "      <td>9.118762</td>\n",
       "      <td>108976.8483</td>\n",
       "      <td>6.661352</td>\n",
       "      <td>6.284976</td>\n",
       "      <td>6.451814</td>\n",
       "      <td>0.198894</td>\n",
       "      <td>0.012312</td>\n",
       "      <td>98.393131</td>\n",
       "      <td>89.918095</td>\n",
       "      <td>0.5</td>\n",
       "      <td>98.173657</td>\n",
       "      <td>91.513651</td>\n",
       "      <td>39.069954</td>\n",
       "      <td>43.885515</td>\n",
       "    </tr>\n",
       "    <tr>\n",
       "      <th>33</th>\n",
       "      <td>6.090000</td>\n",
       "      <td>6.090000</td>\n",
       "      <td>5.980000</td>\n",
       "      <td>6.003000</td>\n",
       "      <td>385568.0000</td>\n",
       "      <td>6.662352</td>\n",
       "      <td>6.293276</td>\n",
       "      <td>6.296026</td>\n",
       "      <td>0.145111</td>\n",
       "      <td>0.042067</td>\n",
       "      <td>6.295956</td>\n",
       "      <td>64.694342</td>\n",
       "      <td>0.5</td>\n",
       "      <td>49.746977</td>\n",
       "      <td>51.057923</td>\n",
       "      <td>-8.373904</td>\n",
       "      <td>-5.514342</td>\n",
       "    </tr>\n",
       "    <tr>\n",
       "      <th>34</th>\n",
       "      <td>6.145000</td>\n",
       "      <td>6.245000</td>\n",
       "      <td>6.130000</td>\n",
       "      <td>6.150000</td>\n",
       "      <td>629111.0000</td>\n",
       "      <td>6.679352</td>\n",
       "      <td>6.314776</td>\n",
       "      <td>6.147588</td>\n",
       "      <td>0.112380</td>\n",
       "      <td>0.057451</td>\n",
       "      <td>10.641053</td>\n",
       "      <td>38.443380</td>\n",
       "      <td>0.5</td>\n",
       "      <td>51.181312</td>\n",
       "      <td>52.078950</td>\n",
       "      <td>-6.491757</td>\n",
       "      <td>-3.485434</td>\n",
       "    </tr>\n",
       "    <tr>\n",
       "      <th>35</th>\n",
       "      <td>6.185000</td>\n",
       "      <td>6.185000</td>\n",
       "      <td>6.120000</td>\n",
       "      <td>6.120000</td>\n",
       "      <td>185961.0000</td>\n",
       "      <td>6.695352</td>\n",
       "      <td>6.346276</td>\n",
       "      <td>6.147338</td>\n",
       "      <td>0.083226</td>\n",
       "      <td>0.062986</td>\n",
       "      <td>9.754298</td>\n",
       "      <td>8.897102</td>\n",
       "      <td>0.5</td>\n",
       "      <td>50.429921</td>\n",
       "      <td>51.454435</td>\n",
       "      <td>-7.077406</td>\n",
       "      <td>-4.151781</td>\n",
       "    </tr>\n",
       "  </tbody>\n",
       "</table>\n",
       "</div>"
      ],
      "text/plain": [
       "        Open      High       Low     Close       Volume       MA5      MA10  \\\n",
       "31  6.095000  6.120000  6.045000  6.085000  526018.0000  6.044600  5.959400   \n",
       "32  9.117578  9.173124  9.058773  9.118762  108976.8483  6.661352  6.284976   \n",
       "33  6.090000  6.090000  5.980000  6.003000  385568.0000  6.662352  6.293276   \n",
       "34  6.145000  6.245000  6.130000  6.150000  629111.0000  6.679352  6.314776   \n",
       "35  6.185000  6.185000  6.120000  6.120000  185961.0000  6.695352  6.346276   \n",
       "\n",
       "        MA20       DIF      MACD      KDJ.K      KDJ.D  PSYMA6       RSI6  \\\n",
       "31  6.292526 -0.031992 -0.043737  89.393939  83.310860     0.5  84.653465   \n",
       "32  6.451814  0.198894  0.012312  98.393131  89.918095     0.5  98.173657   \n",
       "33  6.296026  0.145111  0.042067   6.295956  64.694342     0.5  49.746977   \n",
       "34  6.147588  0.112380  0.057451  10.641053  38.443380     0.5  51.181312   \n",
       "35  6.147338  0.083226  0.062986   9.754298   8.897102     0.5  50.429921   \n",
       "\n",
       "        RSI12      BIAS6     BIAS24  \n",
       "31  53.188776   1.217044  -1.682733  \n",
       "32  91.513651  39.069954  43.885515  \n",
       "33  51.057923  -8.373904  -5.514342  \n",
       "34  52.078950  -6.491757  -3.485434  \n",
       "35  51.454435  -7.077406  -4.151781  "
      ]
     },
     "execution_count": 79,
     "metadata": {},
     "output_type": "execute_result"
    }
   ],
   "source": [
    "X.head()"
   ]
  },
  {
   "cell_type": "code",
   "execution_count": 80,
   "metadata": {},
   "outputs": [
    {
     "data": {
      "text/plain": [
       "31    6.085000\n",
       "32    9.118762\n",
       "33    6.003000\n",
       "34    6.150000\n",
       "35    6.120000\n",
       "Name: Adj Close, dtype: float64"
      ]
     },
     "execution_count": 80,
     "metadata": {},
     "output_type": "execute_result"
    }
   ],
   "source": [
    "y.head()"
   ]
  },
  {
   "cell_type": "code",
   "execution_count": 81,
   "metadata": {},
   "outputs": [],
   "source": [
    "X_train, X_test, y_train, y_test = train_test_split(X, y, test_size=0.2, random_state=1)\n",
    "X_train, X_val, y_train, y_val = train_test_split(X_train, y_train, test_size=0.2, random_state=1)"
   ]
  },
  {
   "cell_type": "code",
   "execution_count": 82,
   "metadata": {},
   "outputs": [],
   "source": [
    "def sigmoid(x):\n",
    "    return (1/(1 + math.exp(-x)))"
   ]
  },
  {
   "cell_type": "code",
   "execution_count": 83,
   "metadata": {},
   "outputs": [],
   "source": [
    "def svrCheck(X_train, y_train, X_val, y_val, sol):\n",
    "    clf = SVR(gamma = 'auto', C = sol[0], epsilon = sol[1])\n",
    "    clf.fit(X_train, y_train)\n",
    "    y_pred = clf.predict(X_val)\n",
    "    return (mean_squared_error(y_val, y_pred))"
   ]
  },
  {
   "cell_type": "code",
   "execution_count": 84,
   "metadata": {},
   "outputs": [],
   "source": [
    "def randGenSol(n, d = 2):\n",
    "    S = []\n",
    "    for i in range(n):\n",
    "        l = []\n",
    "        l.append(rn.uniform(1,10))\n",
    "        l.append(rn.random())\n",
    "        S.append(l)\n",
    "    #S = np.random.rand(n,2)\n",
    "    return S"
   ]
  },
  {
   "cell_type": "code",
   "execution_count": 85,
   "metadata": {},
   "outputs": [],
   "source": [
    "def clustProbGen(clus, n, m):\n",
    "    clus = list(clus)\n",
    "    uc = list(set(clus))\n",
    "    p = [1/len(uc)]*len(uc)\n",
    "    for i in range(m):\n",
    "        p[i] = clus.count(i)/n\n",
    "    return p"
   ]
  },
  {
   "cell_type": "code",
   "execution_count": 86,
   "metadata": {},
   "outputs": [],
   "source": [
    "def probCheck(p):\n",
    "    r = rn.random()\n",
    "    if (r < p):\n",
    "        return True\n",
    "    return False"
   ]
  },
  {
   "cell_type": "code",
   "execution_count": 87,
   "metadata": {},
   "outputs": [],
   "source": [
    "def stepFun(t, T, k = 0.5):\n",
    "    x = ((0.5 * T- t)/k)\n",
    "    res = sigmoid(x) * rn.uniform(0,1)\n",
    "    return res"
   ]
  },
  {
   "cell_type": "code",
   "execution_count": 88,
   "metadata": {},
   "outputs": [],
   "source": [
    "def genNewSol(x, t, T):\n",
    "    n = len(x)\n",
    "    y = [0]*n\n",
    "    for i in range(n):\n",
    "        y[i] = x[i] + stepFun(t, T) * rn.uniform(0,1)\n",
    "    if(y[1] > 1):\n",
    "        y[1] = sigmoid(y[1])\n",
    "    return y"
   ]
  },
  {
   "cell_type": "code",
   "execution_count": 89,
   "metadata": {},
   "outputs": [],
   "source": [
    "def combineTwoSol(x1, x2):\n",
    "    n = len(x1)\n",
    "    x = [0]*n\n",
    "    r = rn.random()\n",
    "    for i in range(n):\n",
    "        x[i] = (r * x1[i]) + ((1-r) * x2[i])\n",
    "    return x"
   ]
  },
  {
   "cell_type": "code",
   "execution_count": 90,
   "metadata": {},
   "outputs": [],
   "source": [
    "def selClustCenters(X_train, y_train, X_val, y_val, S, lab, m):\n",
    "    err = []\n",
    "    cC = [[0,0]]*m\n",
    "    cE = [9999]*m\n",
    "    best = 0\n",
    "    for i in S:\n",
    "            err.append(svrCheck(X_train, y_train, X_val, y_val, i))\n",
    "            j = 0\n",
    "    for i in lab:\n",
    "        if(err[j] < cE[i]):\n",
    "            cE[i] = err[j]\n",
    "            cC[i] = j\n",
    "        if(cE[i] < cE[best]):\n",
    "            best = i\n",
    "        j += 1\n",
    "    return cC, best"
   ]
  },
  {
   "cell_type": "code",
   "execution_count": 91,
   "metadata": {},
   "outputs": [],
   "source": [
    "def bso(X_train, y_train, X_val, y_val, n, m):\n",
    "    pClustering = 0.5\n",
    "    pGeneration = 0.5\n",
    "    pOneCluster = 0.5\n",
    "    pTwoCLuster = 1 - pOneCluster\n",
    "    T = 10 # max iterations\n",
    "    \n",
    "    Solutions = randGenSol(n)\n",
    "    for t in range(T):\n",
    "        kmeans = KMeans(n_clusters = m, random_state = 0).fit(Solutions)\n",
    "        prob = clustProbGen(kmeans.labels_, n, m)\n",
    "        cCenters, best = selClustCenters(X_train, y_train, X_val, y_val, Solutions, kmeans.labels_, m)\n",
    "        #print(svrCheck(X_train, y_train, X_val, y_val, Solutions[cCenters[best]]))\n",
    "        if(probCheck(pClustering)):\n",
    "            index = rn.choice(cCenters)\n",
    "            new = randGenSol(1)[0]\n",
    "            Solutions[index] = new\n",
    "        newSols = []\n",
    "        for i in range(n):\n",
    "            flag = 0\n",
    "            if(probCheck(pGeneration)):\n",
    "                flag = 1\n",
    "                selCluster = rn.choices(range(m), prob)[0]\n",
    "                if(probCheck(pOneCluster)):\n",
    "                    #print(\"Case-1\")\n",
    "                    index = cCenters[selCluster]\n",
    "                    new = genNewSol(np.array(Solutions)[index], t, T)\n",
    "                else:\n",
    "                    #print(\"Case-2\")\n",
    "                    sel = list(rn.choice(np.array(Solutions)[kmeans.labels_ == selCluster]))\n",
    "                    new = genNewSol(sel, t, T)\n",
    "                    index = Solutions.index(sel)\n",
    "            else:\n",
    "                flag = 2\n",
    "                selCluster1, selCluster2 = rn.choices(range(m), prob, k = 2)\n",
    "                if(probCheck(pTwoCLuster)):\n",
    "                    #print(\"Case-3\")\n",
    "                    index1 = cCenters[selCluster1]\n",
    "                    index2 = cCenters[selCluster2]\n",
    "                    comb = combineTwoSol(np.array(Solutions)[index1], Solutions[index2])\n",
    "                    new = genNewSol(comb, t, T)\n",
    "                else:\n",
    "                    #print(\"Case-4\")\n",
    "                    sel1 = list(rn.choice(np.array(Solutions)[kmeans.labels_ == selCluster1]))\n",
    "                    sel2 = list(rn.choice(np.array(Solutions)[kmeans.labels_ == selCluster2]))\n",
    "                    comb = combineTwoSol(sel1, sel2)\n",
    "                    new = genNewSol(comb, t, T)\n",
    "                    index1 = Solutions.index(sel1)\n",
    "                    index2 = Solutions.index(sel2)\n",
    "            if(flag == 1):\n",
    "                if(svrCheck(X_train, y_train, X_val, y_val, new) < svrCheck(X_train, y_train, X_val, y_val, Solutions[index])):\n",
    "                    Solutions[index] = new\n",
    "            elif(flag == 2):\n",
    "                if(svrCheck(X_train, y_train, X_val, y_val, new) < svrCheck(X_train, y_train, X_val, y_val, Solutions[index1])):\n",
    "                    Solutions[index1] = new\n",
    "                elif(svrCheck(X_train, y_train, X_val, y_val, new) < svrCheck(X_train, y_train, X_val, y_val, Solutions[index2])):\n",
    "                    Solutions[index2] = new \n",
    "    \n",
    "    cCenters, best = selClustCenters(X_train, y_train, X_val, y_val, Solutions, kmeans.labels_, m)\n",
    "    print(\"Validation MSE:\", svrCheck(X_train, y_train, X_val, y_val, Solutions[cCenters[best]]))\n",
    "    return Solutions[cCenters[best]]"
   ]
  },
  {
   "cell_type": "code",
   "execution_count": 92,
   "metadata": {},
   "outputs": [
    {
     "name": "stdout",
     "output_type": "stream",
     "text": [
      "Validation MSE: 2.024999049379751\n",
      "Parameters : [8.737215320992568, 0.8508214375274782]\n",
      "Test MSE: 1.5793755565857028\n"
     ]
    }
   ],
   "source": [
    "best = bso(X_train, y_train, X_val, y_val, 10, 3)\n",
    "print(\"Parameters :\", best)\n",
    "print(\"Test MSE:\", svrCheck(X_train, y_train, X_test, y_test, best))"
   ]
  },
  {
   "cell_type": "code",
   "execution_count": 93,
   "metadata": {},
   "outputs": [
    {
     "name": "stdout",
     "output_type": "stream",
     "text": [
      "Validation MSE: 2.0249989291933996\n",
      "Parameters : [5.864117867747634, 0.8496520069673488]\n",
      "Test MSE: 1.579335830142987\n"
     ]
    }
   ],
   "source": [
    "best = bso(X_train, y_train, X_val, y_val, 100, 10)\n",
    "print(\"Parameters :\", best)\n",
    "print(\"Test MSE:\", svrCheck(X_train, y_train, X_test, y_test, best))"
   ]
  },
  {
   "cell_type": "code",
   "execution_count": 94,
   "metadata": {},
   "outputs": [
    {
     "name": "stdout",
     "output_type": "stream",
     "text": [
      "Validation MSE: 2.0249989283544614\n",
      "Parameters : [9.457777713021448, 0.8495463400206772]\n",
      "Test MSE: 1.579332237497984\n"
     ]
    }
   ],
   "source": [
    "best = bso(X_train, y_train, X_val, y_val, 100, 8)\n",
    "print(\"Parameters :\", best)\n",
    "print(\"Test MSE:\", svrCheck(X_train, y_train, X_test, y_test, best))"
   ]
  },
  {
   "cell_type": "code",
   "execution_count": 95,
   "metadata": {},
   "outputs": [
    {
     "name": "stdout",
     "output_type": "stream",
     "text": [
      "Validation MSE: 2.0249989302453364\n",
      "Parameters : [7.187219952559961, 0.849705054385715]\n",
      "Test MSE: 1.5793376343703263\n"
     ]
    }
   ],
   "source": [
    "best = bso(X_train, y_train, X_val, y_val, 100, 5)\n",
    "print(\"Parameters :\", best)\n",
    "print(\"Test MSE:\", svrCheck(X_train, y_train, X_test, y_test, best))"
   ]
  },
  {
   "cell_type": "code",
   "execution_count": 96,
   "metadata": {},
   "outputs": [
    {
     "name": "stdout",
     "output_type": "stream",
     "text": [
      "Validation MSE: 2.024998931266861\n",
      "Parameters : [7.827076296805974, 0.8493490215655689]\n",
      "Test MSE: 1.5793255332077263\n"
     ]
    }
   ],
   "source": [
    "best = bso(X_train, y_train, X_val, y_val, 20, 5)\n",
    "print(\"Parameters :\", best)\n",
    "print(\"Test MSE:\", svrCheck(X_train, y_train, X_test, y_test, best))"
   ]
  },
  {
   "cell_type": "code",
   "execution_count": 97,
   "metadata": {},
   "outputs": [
    {
     "name": "stdout",
     "output_type": "stream",
     "text": [
      "Validation MSE: 2.0249989284340915\n",
      "Parameters : [8.200872756074029, 0.849578788618396]\n",
      "Test MSE: 1.5793333405627377\n"
     ]
    }
   ],
   "source": [
    "best = bso(X_train, y_train, X_val, y_val, 20, 5)\n",
    "print(\"Parameters :\", best)\n",
    "print(\"Test MSE:\", svrCheck(X_train, y_train, X_test, y_test, best))"
   ]
  },
  {
   "cell_type": "code",
   "execution_count": 98,
   "metadata": {},
   "outputs": [
    {
     "name": "stdout",
     "output_type": "stream",
     "text": [
      "Validation MSE: 2.0249989284062013\n",
      "Parameters : [5.03105066209158, 0.8495724661864001]\n",
      "Test MSE: 1.579333125624221\n"
     ]
    }
   ],
   "source": [
    "best = bso(X_train, y_train, X_val, y_val, 20, 5)\n",
    "print(\"Parameters :\", best)\n",
    "print(\"Test MSE:\", svrCheck(X_train, y_train, X_test, y_test, best))"
   ]
  },
  {
   "cell_type": "code",
   "execution_count": 99,
   "metadata": {},
   "outputs": [
    {
     "name": "stdout",
     "output_type": "stream",
     "text": [
      "Validation MSE: 2.0249989286407613\n",
      "Parameters : [7.017691645909566, 0.8494843699387006]\n",
      "Test MSE: 1.5793301313117754\n"
     ]
    }
   ],
   "source": [
    "best = bso(X_train, y_train, X_val, y_val, 20, 5)\n",
    "print(\"Parameters :\", best)\n",
    "print(\"Test MSE:\", svrCheck(X_train, y_train, X_test, y_test, best))"
   ]
  },
  {
   "cell_type": "code",
   "execution_count": null,
   "metadata": {},
   "outputs": [],
   "source": []
  }
 ],
 "metadata": {
  "kernelspec": {
   "display_name": "Python 3",
   "language": "python",
   "name": "python3"
  },
  "language_info": {
   "codemirror_mode": {
    "name": "ipython",
    "version": 3
   },
   "file_extension": ".py",
   "mimetype": "text/x-python",
   "name": "python",
   "nbconvert_exporter": "python",
   "pygments_lexer": "ipython3",
   "version": "3.7.3"
  }
 },
 "nbformat": 4,
 "nbformat_minor": 4
}
