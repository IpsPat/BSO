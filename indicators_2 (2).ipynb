{
 "cells": [
  {
   "cell_type": "code",
   "execution_count": 134,
   "metadata": {},
   "outputs": [],
   "source": [
    "import pandas as pd\n",
    "import numpy as np"
   ]
  },
  {
   "cell_type": "code",
   "execution_count": 135,
   "metadata": {},
   "outputs": [
    {
     "data": {
      "text/plain": [
       "1268"
      ]
     },
     "execution_count": 135,
     "metadata": {},
     "output_type": "execute_result"
    }
   ],
   "source": [
    "data=pd.read_csv(\"C:\\\\Users\\\\DELL\\\\Desktop\\\\semester_3\\\\modelling in operation management\\\\market analysis\\\\data\\\\csi.csv\")\n",
    "len(data)"
   ]
  },
  {
   "cell_type": "code",
   "execution_count": 136,
   "metadata": {},
   "outputs": [
    {
     "data": {
      "text/plain": [
       "Date          0\n",
       "Open         62\n",
       "High         62\n",
       "Low          62\n",
       "Close        62\n",
       "Adj Close    62\n",
       "Volume       62\n",
       "dtype: int64"
      ]
     },
     "execution_count": 136,
     "metadata": {},
     "output_type": "execute_result"
    }
   ],
   "source": [
    "data.isnull().sum()"
   ]
  },
  {
   "cell_type": "code",
   "execution_count": 137,
   "metadata": {},
   "outputs": [],
   "source": [
    "data.fillna(data.mean(), inplace=True)"
   ]
  },
  {
   "cell_type": "code",
   "execution_count": 138,
   "metadata": {},
   "outputs": [
    {
     "data": {
      "text/plain": [
       "Date         0\n",
       "Open         0\n",
       "High         0\n",
       "Low          0\n",
       "Close        0\n",
       "Adj Close    0\n",
       "Volume       0\n",
       "dtype: int64"
      ]
     },
     "execution_count": 138,
     "metadata": {},
     "output_type": "execute_result"
    }
   ],
   "source": [
    "data.isnull().sum()"
   ]
  },
  {
   "cell_type": "code",
   "execution_count": 139,
   "metadata": {},
   "outputs": [],
   "source": [
    "def MA(data, n):  \n",
    "    MA = pd.Series(data['Close'].rolling(window = n).mean(), name = 'MA' + str(n))  \n",
    "    data = data.join(MA) \n",
    "    return data\n"
   ]
  },
  {
   "cell_type": "code",
   "execution_count": 140,
   "metadata": {},
   "outputs": [],
   "source": [
    "data=MA(data,5)\n",
    "data=MA(data,10)\n",
    "data=MA(data,20)"
   ]
  },
  {
   "cell_type": "code",
   "execution_count": 141,
   "metadata": {},
   "outputs": [],
   "source": [
    "def EMA(data, n):  \n",
    "    EMA = pd.Series(data['Close'].ewm(span = n, min_periods = n - 1).mean(), name = 'EMA_' + str(n))  \n",
    "    return EMA"
   ]
  },
  {
   "cell_type": "code",
   "execution_count": 142,
   "metadata": {},
   "outputs": [],
   "source": [
    "data['DIF']=EMA(data,12)-EMA(data,26)\n"
   ]
  },
  {
   "cell_type": "code",
   "execution_count": 143,
   "metadata": {},
   "outputs": [],
   "source": [
    "def MACD(data,n):\n",
    "    MACD=pd.Series(data['DIF'].ewm(span = n, min_periods = n-1).mean(), name = 'MACD')\n",
    "    data=data.join(MACD)\n",
    "    return data\n"
   ]
  },
  {
   "cell_type": "code",
   "execution_count": 144,
   "metadata": {},
   "outputs": [],
   "source": [
    "data=MACD(data,9)"
   ]
  },
  {
   "cell_type": "code",
   "execution_count": 145,
   "metadata": {},
   "outputs": [],
   "source": [
    "def stochastics( data, low, high, close, k, d ):\n",
    "    # Set minimum low and maximum high of the k stoch\n",
    "    low_min  = data[low].rolling( window = k ).min()\n",
    "    high_max = data[high].rolling( window = k ).max()\n",
    "\n",
    "   \n",
    "    data['KDJ.K'] = 100 * (data[close] - low_min)/(high_max - low_min)\n",
    "    data['KDJ.D'] = data['KDJ.K'].rolling(window = d).mean()\n",
    "\n",
    "    return data"
   ]
  },
  {
   "cell_type": "code",
   "execution_count": 146,
   "metadata": {},
   "outputs": [],
   "source": [
    "data = stochastics( data, 'Low', 'High', 'Close', 14, 3)"
   ]
  },
  {
   "cell_type": "code",
   "execution_count": 147,
   "metadata": {},
   "outputs": [],
   "source": [
    "def PSY(data,Length):\n",
    "    psy=[]\n",
    "    for i in range(5,len(data['Close'])):\n",
    "        c=0\n",
    "        for j in range(i,i-5,-1):\n",
    "            if data['Close'][j] > data['Close'][j-1]:\n",
    "                c+=1\n",
    "        psy.append(c/Length)        \n",
    "    return psy"
   ]
  },
  {
   "cell_type": "code",
   "execution_count": 148,
   "metadata": {},
   "outputs": [],
   "source": [
    "PSYMA6=PSY(data,6)\n",
    "psy=[np.NaN]*5\n",
    "PSYMA6=psy+PSYMA6\n",
    "data['PSYMA6']=PSYMA6"
   ]
  },
  {
   "cell_type": "code",
   "execution_count": 149,
   "metadata": {},
   "outputs": [],
   "source": [
    "def RSI(data, n):\n",
    "    delta = data.Close.diff()\n",
    "    window = n\n",
    "    up_days = delta.copy()\n",
    "    up_days[delta<=0]=0.0\n",
    "    down_days = abs(delta.copy())\n",
    "    down_days[delta>0]=0.0\n",
    "    RS_up = up_days.rolling(window).mean()\n",
    "    RS_down = down_days.rolling(window).mean()\n",
    "    rsi= 100-100/(1+RS_up/RS_down)\n",
    "    \n",
    "    return rsi"
   ]
  },
  {
   "cell_type": "code",
   "execution_count": 150,
   "metadata": {},
   "outputs": [],
   "source": [
    "rsi6=RSI(data,6)\n",
    "rsi12=RSI(data,12)\n",
    "data['RSI6']=rsi6\n",
    "data['RSI12']=rsi12"
   ]
  },
  {
   "cell_type": "code",
   "execution_count": 151,
   "metadata": {},
   "outputs": [],
   "source": [
    "def Bias(data,n):\n",
    "    sma=data['Close'].rolling( window = n).mean()\n",
    "    bias=((data['Close']-sma)/sma)*100  \n",
    "    return bias"
   ]
  },
  {
   "cell_type": "code",
   "execution_count": 152,
   "metadata": {},
   "outputs": [],
   "source": [
    "BIAS6=Bias(data,6)\n",
    "BIAS24=Bias(data,24)\n",
    "data['BIAS6']=BIAS6\n",
    "data['BIAS24']=BIAS24"
   ]
  },
  {
   "cell_type": "code",
   "execution_count": 153,
   "metadata": {},
   "outputs": [],
   "source": [
    "file=data.to_csv(\"finalDataset.csv\",index=False,header=True)"
   ]
  },
  {
   "cell_type": "code",
   "execution_count": null,
   "metadata": {},
   "outputs": [],
   "source": []
  }
 ],
 "metadata": {
  "kernelspec": {
   "display_name": "Python 3",
   "language": "python",
   "name": "python3"
  },
  "language_info": {
   "codemirror_mode": {
    "name": "ipython",
    "version": 3
   },
   "file_extension": ".py",
   "mimetype": "text/x-python",
   "name": "python",
   "nbconvert_exporter": "python",
   "pygments_lexer": "ipython3",
   "version": "3.6.5"
  }
 },
 "nbformat": 4,
 "nbformat_minor": 2
}
